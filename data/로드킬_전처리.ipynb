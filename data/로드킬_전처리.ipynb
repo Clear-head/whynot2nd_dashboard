{
 "cells": [
  {
   "cell_type": "code",
   "execution_count": null,
   "id": "75704ed4",
   "metadata": {},
   "outputs": [],
   "source": [
    "# 전쳐리\n",
    "# db "
   ]
  },
  {
   "cell_type": "code",
   "execution_count": 77,
   "id": "0ddac752",
   "metadata": {},
   "outputs": [
    {
     "name": "stdout",
     "output_type": "stream",
     "text": [
      "<class 'pandas.core.frame.DataFrame'>\n",
      "RangeIndex: 59 entries, 0 to 58\n",
      "Data columns (total 9 columns):\n",
      " #   Column  Non-Null Count  Dtype  \n",
      "---  ------  --------------  -----  \n",
      " 0   본부명     59 non-null     object \n",
      " 1   지사명     59 non-null     object \n",
      " 2   노선명     59 non-null     object \n",
      " 3   구간      59 non-null     object \n",
      " 4   방 향     59 non-null     object \n",
      " 5   5km     59 non-null     int64  \n",
      " 6   발생건수    59 non-null     int64  \n",
      " 7   위도      59 non-null     float64\n",
      " 8   경도      59 non-null     float64\n",
      "dtypes: float64(2), int64(2), object(5)\n",
      "memory usage: 4.3+ KB\n"
     ]
    }
   ],
   "source": [
    "# 전처리 \n",
    "import pandas as pd \n",
    "import numpy as np\n",
    "from datetime import datetime, timedelta\n",
    "roadkill_df = pd.read_csv('한국도로공사_로드킬 데이터 정보_20250501.csv', encoding='cp949')\n",
    "roadkill_df.columns = (\n",
    "    roadkill_df.columns\n",
    "    .str.replace('\\ufeff', '', regex=True)\n",
    "    .str.strip()\n",
    ")\n",
    "roadkill_df.head()\n",
    "roadkill_df.info()"
   ]
  },
  {
   "cell_type": "code",
   "execution_count": 62,
   "id": "3d5b0045",
   "metadata": {},
   "outputs": [
    {
     "name": "stdout",
     "output_type": "stream",
     "text": [
      "['본부명', '지사명', '노선명', '구간', '방 향', '5km', '발생건수', '위도', '경도']\n"
     ]
    }
   ],
   "source": [
    "print(roadkill_df.columns.tolist())"
   ]
  },
  {
   "cell_type": "code",
   "execution_count": 91,
   "id": "2342a1ac",
   "metadata": {},
   "outputs": [],
   "source": [
    "def add_timestamp(df: pd.DataFrame,\n",
    "                  start_dt: str | None = None,\n",
    "                  step_seconds: int = 240,\n",
    "                  as_string: bool = True,\n",
    "                  **kwargs) -> pd.DataFrame:\n",
    "    # return_string 별칭 허용\n",
    "    if 'return_string' in kwargs:\n",
    "        as_string = kwargs.pop('return_string')\n",
    "\n",
    "    out = df.copy()\n",
    "    base = datetime.now().replace(microsecond=0) if start_dt is None else pd.to_datetime(start_dt).to_pydatetime()\n",
    "    times = [base + timedelta(seconds=i * step_seconds) for i in range(len(out))]\n",
    "    if as_string:\n",
    "        out['timestamp'] = pd.to_datetime(times).strftime('%Y-%m-%d %H:%M:%S')\n",
    "    else:\n",
    "        out['timestamp'] = pd.to_datetime(times)\n",
    "    return out"
   ]
  },
  {
   "cell_type": "code",
   "execution_count": null,
   "id": "4f4dbb36",
   "metadata": {},
   "outputs": [
    {
     "name": "stdout",
     "output_type": "stream",
     "text": [
      "  지사명         위도          경도  status            timestamp\n",
      "0  영동  36.317750  127.556418       2  2025-08-25 14:50:48\n",
      "1  대전  36.349629  127.466302       0  2025-08-25 14:54:48\n",
      "2  대전  36.465756  127.418342       2  2025-08-25 14:58:48\n",
      "3  대전  36.550930  127.431874       2  2025-08-25 15:02:48\n",
      "4  천안  36.625360  127.383686       0  2025-08-25 15:06:48\n",
      "    지사명  발생건수\n",
      "0    강릉     6\n",
      "1  경기광주     6\n",
      "2    공주     9\n",
      "3    남원    11\n",
      "4    논산     3\n"
     ]
    },
    {
     "name": "stderr",
     "output_type": "stream",
     "text": [
      "C:\\Users\\Admin\\AppData\\Local\\Temp\\ipykernel_1688\\610893620.py:17: SettingWithCopyWarning: \n",
      "A value is trying to be set on a copy of a slice from a DataFrame.\n",
      "Try using .loc[row_indexer,col_indexer] = value instead\n",
      "\n",
      "See the caveats in the documentation: https://pandas.pydata.org/pandas-docs/stable/user_guide/indexing.html#returning-a-view-versus-a-copy\n",
      "  roadkill_freq['발생건수'] = pd.to_numeric(roadkill_freq['발생건수'], errors='coerce').fillna(0).astype(int)\n"
     ]
    }
   ],
   "source": [
    "roadkill_loc = roadkill_df[['지사명', '위도', '경도']].copy()\n",
    "roadkill_loc['위도'] = pd.to_numeric(roadkill_loc['위도'], errors='coerce')\n",
    "roadkill_loc['경도'] = pd.to_numeric(roadkill_loc['경도'], errors='coerce')\n",
    "\n",
    "# status 랜덤\n",
    "np.random.seed(42)\n",
    "# 0=사망, 1=발견, 2=재발견 (동일 확률)\n",
    "roadkill_loc['status'] = np.random.choice([0, 1, 2], size=len(roadkill_loc)).astype('int8')\n",
    "\n",
    "# timestamp 추가 \n",
    "roadkill_loc = add_timestamp(roadkill_loc, step_seconds=240, return_string=True)\n",
    "print(roadkill_loc.head())\n",
    "\n",
    "# status\n",
    "# 직사명 \n",
    "roadkill_freq = roadkill_df[['지사명', '발생건수']]\n",
    "# 발생건수 테이블 합계\n",
    "roadkill_freq['발생건수'] = pd.to_numeric(roadkill_freq['발생건수'], errors='coerce').fillna(0).astype(int)\n",
    "roadkill_freq_grouped = roadkill_freq.groupby('지사명', as_index=False)['발생건수'].sum()\n",
    "\n",
    "\n",
    "print(roadkill_freq_grouped.head())\n",
    "\n",
    "\n"
   ]
  },
  {
   "cell_type": "code",
   "execution_count": 64,
   "id": "d3d8d0ee",
   "metadata": {},
   "outputs": [
    {
     "data": {
      "text/plain": [
       "np.int64(7)"
      ]
     },
     "execution_count": 64,
     "metadata": {},
     "output_type": "execute_result"
    }
   ],
   "source": [
    "dup_cnt = roadkill_loc.duplicated(subset=['위도','경도']).sum()\n",
    "dup_cnt"
   ]
  },
  {
   "cell_type": "code",
   "execution_count": 65,
   "id": "627677bb",
   "metadata": {},
   "outputs": [],
   "source": [
    "# impor date time,데이터 insert할때의 시간 넣기 , 시간 (시, 분 , 초)"
   ]
  },
  {
   "cell_type": "code",
   "execution_count": 76,
   "id": "2ee90a0f",
   "metadata": {},
   "outputs": [
    {
     "name": "stdout",
     "output_type": "stream",
     "text": [
      "roadkill_loc 업서트 + roadkill_freq 적재 완료\n",
      "roadkill_loc row count: (56,)\n",
      "roadkill_freq row count: (25,)\n"
     ]
    }
   ],
   "source": [
    "# -*- coding: utf-8 -*-\n",
    "# roadkill_loc (위도+경도 PK), roadkill_freq (지사명 PK) 생성 및 적재 예시\n",
    "\n",
    "import pandas as pd\n",
    "import pymysql\n",
    "from sqlalchemy import create_engine, text\n",
    "\n",
    "# 1. MySQL 연결 \n",
    "db_config = {\n",
    "    'host': 'localhost',\n",
    "    'user': 'root',\n",
    "    'passwd': '1234',\n",
    "    'db': 'roadkill_db',\n",
    "    'charset': 'utf8'\n",
    "}\n",
    "\n",
    "# sqlalchemy engine \n",
    "engine = create_engine(\n",
    "    f\"mysql+pymysql://{db_config['user']}:{db_config['passwd']}@{db_config['host']}/{db_config['db']}?charset={db_config['charset']}\"\n",
    ")\n",
    "\n",
    "\n",
    "# 3. DB테이블 생성\n",
    "\n",
    "with engine.begin() as conn:\n",
    "    conn.execute(text(\"DROP TABLE IF EXISTS roadkill_loc\"))\n",
    "    conn.execute(text(\"DROP TABLE IF EXISTS roadkill_freq\"))\n",
    "\n",
    "    # 위도, 경도, status pk\n",
    "    conn.execute(text(\"\"\"\n",
    "        CREATE TABLE roadkill_loc (\n",
    "            지사명      VARCHAR(100) NOT NULL,\n",
    "            위도        DOUBLE NOT NULL,\n",
    "            경도        DOUBLE NOT NULL,\n",
    "            status      TINYINT NOT NULL,               -- 0=사망, 1=발견, 2=재발견\n",
    "            created_at  DATETIME DEFAULT CURRENT_TIMESTAMP,\n",
    "            PRIMARY KEY (위도, 경도, status),\n",
    "            CHECK (status IN (0,1,2))\n",
    "        ) CHARACTER SET utf8mb4 COLLATE utf8mb4_unicode_ci;\n",
    "    \"\"\"))\n",
    "\n",
    "    conn.execute(text(\"\"\"\n",
    "        CREATE TABLE roadkill_freq (\n",
    "            지사명      VARCHAR(100) NOT NULL PRIMARY KEY,\n",
    "            발생건수     INT NOT NULL,\n",
    "            created_at  DATETIME DEFAULT CURRENT_TIMESTAMP\n",
    "        ) CHARACTER SET utf8mb4 COLLATE utf8mb4_unicode_ci;\n",
    "    \"\"\"))\n",
    "\n",
    "# 4) 데이터 적재\n",
    "# 4-1) roadkill_loc : 중복 좌표면 status=2로 갱신(재발견), 타임스탬프 업데이트\n",
    "rows = roadkill_loc.to_dict(orient='records')\n",
    "\n",
    "upsert_sql = text(\"\"\"\n",
    "    INSERT INTO roadkill_loc (지사명, 위도, 경도, status)\n",
    "    VALUES (:지사명, :위도, :경도, :status) AS new\n",
    "    ON DUPLICATE KEY UPDATE\n",
    "        지사명 = new.지사명,              -- 최신 지사명으로 교체(원치 않으면 이 줄 제거)\n",
    "        status = 2,                       -- 중복이면 재발견으로 강제\n",
    "        created_at = CURRENT_TIMESTAMP;   -- 최신 시간으로 갱신\n",
    "\"\"\")\n",
    "\n",
    "with engine.begin() as conn:\n",
    "    conn.execute(upsert_sql, rows)\n",
    "\n",
    "# 4-2) roadkill_freq_grouped : 기존처럼 append\n",
    "roadkill_freq_grouped.to_sql(\"roadkill_freq\", con=engine, if_exists=\"append\", index=False)\n",
    "\n",
    "print(\"roadkill_loc 업서트 + roadkill_freq 적재 완료\")\n",
    "\n",
    "# =====================\n",
    "# 5. 검증 (PyMySQL 커서)\n",
    "# =====================\n",
    "conn = pymysql.connect(**db_config)\n",
    "cur = conn.cursor()\n",
    "\n",
    "cur.execute(\"SELECT COUNT(*) FROM roadkill_loc;\")\n",
    "print(\"roadkill_loc row count:\", cur.fetchone())\n",
    "\n",
    "cur.execute(\"SELECT COUNT(*) FROM roadkill_freq;\")\n",
    "print(\"roadkill_freq row count:\", cur.fetchone())\n",
    "\n",
    "cur.close()\n",
    "conn.close()\n"
   ]
  },
  {
   "cell_type": "code",
   "execution_count": null,
   "id": "fecb55c5",
   "metadata": {},
   "outputs": [],
   "source": []
  }
 ],
 "metadata": {
  "kernelspec": {
   "display_name": "hipython",
   "language": "python",
   "name": "python3"
  },
  "language_info": {
   "codemirror_mode": {
    "name": "ipython",
    "version": 3
   },
   "file_extension": ".py",
   "mimetype": "text/x-python",
   "name": "python",
   "nbconvert_exporter": "python",
   "pygments_lexer": "ipython3",
   "version": "3.12.9"
  }
 },
 "nbformat": 4,
 "nbformat_minor": 5
}
