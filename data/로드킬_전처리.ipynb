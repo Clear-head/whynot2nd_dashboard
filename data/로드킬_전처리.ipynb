{
 "cells": [
  {
   "cell_type": "code",
   "execution_count": 2,
   "id": "75704ed4",
   "metadata": {},
   "outputs": [],
   "source": [
    "# 전쳐리\n",
    "# db "
   ]
  },
  {
   "cell_type": "code",
   "execution_count": 3,
   "id": "0ddac752",
   "metadata": {},
   "outputs": [
    {
     "name": "stdout",
     "output_type": "stream",
     "text": [
      "<class 'pandas.core.frame.DataFrame'>\n",
      "RangeIndex: 59 entries, 0 to 58\n",
      "Data columns (total 9 columns):\n",
      " #   Column  Non-Null Count  Dtype  \n",
      "---  ------  --------------  -----  \n",
      " 0   본부명     59 non-null     object \n",
      " 1   지사명     59 non-null     object \n",
      " 2   노선명     59 non-null     object \n",
      " 3   구간      59 non-null     object \n",
      " 4   방 향     59 non-null     object \n",
      " 5   5km     59 non-null     int64  \n",
      " 6   발생건수    59 non-null     int64  \n",
      " 7   위도      59 non-null     float64\n",
      " 8   경도      59 non-null     float64\n",
      "dtypes: float64(2), int64(2), object(5)\n",
      "memory usage: 4.3+ KB\n"
     ]
    }
   ],
   "source": [
    "# 전처리 \n",
    "import pandas as pd \n",
    "import numpy as np\n",
    "from datetime import datetime, timedelta\n",
    "roadkill_df = pd.read_csv('한국도로공사_로드킬 데이터 정보_20250501.csv', encoding='cp949')\n",
    "roadkill_df.columns = (\n",
    "    roadkill_df.columns\n",
    "    .str.replace('\\ufeff', '', regex=True)\n",
    "    .str.strip()\n",
    ")\n",
    "roadkill_df.head()\n",
    "roadkill_df.info()"
   ]
  },
  {
   "cell_type": "code",
   "execution_count": 4,
   "id": "3d5b0045",
   "metadata": {},
   "outputs": [
    {
     "name": "stdout",
     "output_type": "stream",
     "text": [
      "['본부명', '지사명', '노선명', '구간', '방 향', '5km', '발생건수', '위도', '경도']\n"
     ]
    }
   ],
   "source": [
    "print(roadkill_df.columns.tolist())"
   ]
  },
  {
   "cell_type": "code",
   "execution_count": 5,
   "id": "4917f0f3",
   "metadata": {},
   "outputs": [],
   "source": [
    "# 함수: timestamp, status "
   ]
  },
  {
   "cell_type": "code",
   "execution_count": 6,
   "id": "2342a1ac",
   "metadata": {},
   "outputs": [],
   "source": [
    "def add_timestamp(df: pd.DataFrame,\n",
    "                  start_dt: str | None = None,\n",
    "                  step_seconds: int = 240,\n",
    "                  as_string: bool = True,\n",
    "                  **kwargs) -> pd.DataFrame:\n",
    "    # return_string 별칭 허용\n",
    "    if 'return_string' in kwargs:\n",
    "        as_string = kwargs.pop('return_string')\n",
    "\n",
    "    out = df.copy()\n",
    "    base = datetime.now().replace(microsecond=0) if start_dt is None else pd.to_datetime(start_dt).to_pydatetime()\n",
    "    times = [base + timedelta(seconds=i * step_seconds) for i in range(len(out))]\n",
    "    if as_string:\n",
    "        out['timestamp'] = pd.to_datetime(times).strftime('%Y-%m-%d %H:%M:%S')\n",
    "    else:\n",
    "        out['timestamp'] = pd.to_datetime(times)\n",
    "    return out"
   ]
  },
  {
   "cell_type": "code",
   "execution_count": 7,
   "id": "d093f351",
   "metadata": {},
   "outputs": [],
   "source": [
    "def apply_status_rules_dups_only(\n",
    "    df: pd.DataFrame,\n",
    "    group_cols=('위도','경도'),\n",
    "    time_col='timestamp',\n",
    "    status_col='status',\n",
    "    keep_order=True\n",
    ") -> pd.DataFrame:\n",
    "    \"\"\"\n",
    "    규칙(중복 좌표에만 적용):\n",
    "      1) 첫 이벤트 = 0\n",
    "      2) 첫 이벤트 시각으로부터 ≤ 1시간 내 나중 이벤트 = 1\n",
    "      3) '1'이 찍힌 시각으로부터 ≥ 24시간 후 나중 이벤트 = 2\n",
    "    단일 좌표(해당 좌표가 1건뿐)는 status 변경 없음.\n",
    "    \"\"\"\n",
    "    out = df.copy()\n",
    "    orig_idx = out.index\n",
    "    out[time_col] = pd.to_datetime(out[time_col], errors='coerce')\n",
    "\n",
    "    # 중복 좌표만 추려서 처리\n",
    "    sizes = out.groupby(list(group_cols), sort=False)[time_col].transform('size')\n",
    "    dup_mask = sizes >= 2\n",
    "    work = out.loc[dup_mask].sort_values(list(group_cols) + [time_col]).copy()\n",
    "    if work.empty:\n",
    "        return out  # 중복 좌표가 없다면 원본 그대로\n",
    "\n",
    "    H1  = pd.Timedelta(hours=1).value      # ns\n",
    "    H24 = pd.Timedelta(hours=24).value     # ns\n",
    "\n",
    "    def assign(g: pd.DataFrame) -> pd.DataFrame:\n",
    "        ts = g[time_col].to_numpy('datetime64[ns]')\n",
    "        st = np.zeros(len(g), dtype=np.int8)  # 기본 0 (첫 이벤트 0)\n",
    "\n",
    "        if len(g) >= 2:\n",
    "            # 첫 이벤트 기준 경과 시간(ns)\n",
    "            d = (ts - ts[0]).astype('timedelta64[ns]').astype('int64')\n",
    "\n",
    "            # 1시간 이내(>0, ≤1h) → 1\n",
    "            within_1h = (d > 0) & (d <= H1)\n",
    "            st[within_1h] = 1\n",
    "\n",
    "            # 첫 '1' 이후 24시간 지난 시점부터 → 2\n",
    "            idx1 = np.flatnonzero(within_1h)\n",
    "            if idx1.size > 0:\n",
    "                i1 = idx1[0]\n",
    "                d2 = (ts - ts[i1]).astype('timedelta64[ns]').astype('int64')\n",
    "                i2 = np.searchsorted(d2, H24, side='left')\n",
    "                if i2 < len(g):\n",
    "                    st[i2:] = 2\n",
    "\n",
    "        g[status_col] = st\n",
    "        return g\n",
    "\n",
    "    work = work.groupby(list(group_cols), group_keys=False, sort=False).apply(assign)\n",
    "    out.loc[work.index, status_col] = work[status_col].astype('int8')\n",
    "\n",
    "    return out.loc[orig_idx] if keep_order else out"
   ]
  },
  {
   "cell_type": "code",
   "execution_count": 8,
   "id": "ab37ee39",
   "metadata": {},
   "outputs": [
    {
     "name": "stderr",
     "output_type": "stream",
     "text": [
      "C:\\Users\\Admin\\AppData\\Local\\Temp\\ipykernel_14552\\2222811637.py:53: FutureWarning: DataFrameGroupBy.apply operated on the grouping columns. This behavior is deprecated, and in a future version of pandas the grouping columns will be excluded from the operation. Either pass `include_groups=False` to exclude the groupings or explicitly select the grouping columns after groupby to silence this warning.\n",
      "  work = work.groupby(list(group_cols), group_keys=False, sort=False).apply(assign)\n"
     ]
    },
    {
     "data": {
      "text/html": [
       "<div>\n",
       "<style scoped>\n",
       "    .dataframe tbody tr th:only-of-type {\n",
       "        vertical-align: middle;\n",
       "    }\n",
       "\n",
       "    .dataframe tbody tr th {\n",
       "        vertical-align: top;\n",
       "    }\n",
       "\n",
       "    .dataframe thead th {\n",
       "        text-align: right;\n",
       "    }\n",
       "</style>\n",
       "<table border=\"1\" class=\"dataframe\">\n",
       "  <thead>\n",
       "    <tr style=\"text-align: right;\">\n",
       "      <th></th>\n",
       "      <th>지사명</th>\n",
       "      <th>노선명</th>\n",
       "      <th>구간</th>\n",
       "      <th>방 향</th>\n",
       "      <th>발생건수</th>\n",
       "      <th>위도</th>\n",
       "      <th>경도</th>\n",
       "      <th>status</th>\n",
       "      <th>timestamp</th>\n",
       "    </tr>\n",
       "  </thead>\n",
       "  <tbody>\n",
       "    <tr>\n",
       "      <th>0</th>\n",
       "      <td>영동</td>\n",
       "      <td>경부선</td>\n",
       "      <td>260~265</td>\n",
       "      <td>부산</td>\n",
       "      <td>3</td>\n",
       "      <td>36.317750</td>\n",
       "      <td>127.556418</td>\n",
       "      <td>2</td>\n",
       "      <td>2025-08-26 09:06:08</td>\n",
       "    </tr>\n",
       "    <tr>\n",
       "      <th>1</th>\n",
       "      <td>대전</td>\n",
       "      <td>경부선</td>\n",
       "      <td>270~275</td>\n",
       "      <td>부산</td>\n",
       "      <td>3</td>\n",
       "      <td>36.349629</td>\n",
       "      <td>127.466302</td>\n",
       "      <td>0</td>\n",
       "      <td>2025-08-26 09:10:08</td>\n",
       "    </tr>\n",
       "    <tr>\n",
       "      <th>2</th>\n",
       "      <td>대전</td>\n",
       "      <td>경부선</td>\n",
       "      <td>285~290</td>\n",
       "      <td>부산</td>\n",
       "      <td>3</td>\n",
       "      <td>36.465756</td>\n",
       "      <td>127.418342</td>\n",
       "      <td>2</td>\n",
       "      <td>2025-08-26 09:14:08</td>\n",
       "    </tr>\n",
       "    <tr>\n",
       "      <th>3</th>\n",
       "      <td>대전</td>\n",
       "      <td>경부선</td>\n",
       "      <td>295~300</td>\n",
       "      <td>부산</td>\n",
       "      <td>3</td>\n",
       "      <td>36.550930</td>\n",
       "      <td>127.431874</td>\n",
       "      <td>2</td>\n",
       "      <td>2025-08-26 09:18:08</td>\n",
       "    </tr>\n",
       "    <tr>\n",
       "      <th>4</th>\n",
       "      <td>천안</td>\n",
       "      <td>경부선</td>\n",
       "      <td>305~310</td>\n",
       "      <td>서울</td>\n",
       "      <td>3</td>\n",
       "      <td>36.625360</td>\n",
       "      <td>127.383686</td>\n",
       "      <td>0</td>\n",
       "      <td>2025-08-26 09:22:08</td>\n",
       "    </tr>\n",
       "  </tbody>\n",
       "</table>\n",
       "</div>"
      ],
      "text/plain": [
       "  지사명  노선명         구간 방 향  발생건수         위도          경도  status  \\\n",
       "0  영동  경부선   260~265   부산     3  36.317750  127.556418       2   \n",
       "1  대전  경부선   270~275   부산     3  36.349629  127.466302       0   \n",
       "2  대전  경부선   285~290   부산     3  36.465756  127.418342       2   \n",
       "3  대전  경부선   295~300   부산     3  36.550930  127.431874       2   \n",
       "4  천안  경부선   305~310   서울     3  36.625360  127.383686       0   \n",
       "\n",
       "            timestamp  \n",
       "0 2025-08-26 09:06:08  \n",
       "1 2025-08-26 09:10:08  \n",
       "2 2025-08-26 09:14:08  \n",
       "3 2025-08-26 09:18:08  \n",
       "4 2025-08-26 09:22:08  "
      ]
     },
     "execution_count": 8,
     "metadata": {},
     "output_type": "execute_result"
    }
   ],
   "source": [
    "roadkill_info2  = roadkill_df[['지사명', '노선명', '구간', '방 향', '발생건수', '위도', '경도']].copy()\n",
    "# status 랜덤으로 주기 \n",
    "np.random.seed(42)\n",
    "# 0=사망, 1=발견, 2=재발견 (동일 확률)\n",
    "roadkill_info2['status'] = np.random.choice([0, 1, 2], size=len(roadkill_info2)).astype('int8')\n",
    "\n",
    "# insert되는 timestamp추가 (일단은 임의의 값)\n",
    "roadkill_info2 = add_timestamp(roadkill_info2, step_seconds=240, return_string=True)\n",
    "\n",
    "# 상태 변경하기 \n",
    "roadkill_info2 = apply_status_rules_dups_only(roadkill_info2)\n",
    "\n",
    "roadkill_info2.head()"
   ]
  },
  {
   "cell_type": "code",
   "execution_count": 9,
   "id": "454f5f0b",
   "metadata": {},
   "outputs": [
    {
     "name": "stdout",
     "output_type": "stream",
     "text": [
      "<class 'pandas.core.frame.DataFrame'>\n",
      "Index: 59 entries, 0 to 58\n",
      "Data columns (total 9 columns):\n",
      " #   Column     Non-Null Count  Dtype         \n",
      "---  ------     --------------  -----         \n",
      " 0   지사명        59 non-null     object        \n",
      " 1   노선명        59 non-null     object        \n",
      " 2   구간         59 non-null     object        \n",
      " 3   방 향        59 non-null     object        \n",
      " 4   발생건수       59 non-null     int64         \n",
      " 5   위도         59 non-null     float64       \n",
      " 6   경도         59 non-null     float64       \n",
      " 7   status     59 non-null     int8          \n",
      " 8   timestamp  59 non-null     datetime64[ns]\n",
      "dtypes: datetime64[ns](1), float64(2), int64(1), int8(1), object(4)\n",
      "memory usage: 4.2+ KB\n"
     ]
    }
   ],
   "source": [
    "roadkill_info2.info()"
   ]
  },
  {
   "cell_type": "code",
   "execution_count": 10,
   "id": "4aff285c",
   "metadata": {},
   "outputs": [
    {
     "name": "stdout",
     "output_type": "stream",
     "text": [
      "완전 일치 중복 샘플:\n",
      "   지사명          노선명         구간 방 향  발생건수         위도          경도  status  \\\n",
      "9   순천          남해선      5~10   순천     3  34.990320  127.528375       0   \n",
      "10  순천          남해선      5~10   부산     3  34.990320  127.528375       1   \n",
      "16  부안         서해안선     65~70   목포     4  35.357142  126.583441       0   \n",
      "17  부안         서해안선   120~125   목포     3  35.357142  126.583441       1   \n",
      "45  진천          중부선   260~265   남이     5  36.708802  127.437539       0   \n",
      "46  진천          중부선   260~265   하남     3  36.708802  127.437539       1   \n",
      "37  공주  서산영덕선(대전당진)     35~40   대전     3  36.782578  126.689747       0   \n",
      "41  보은  서산영덕선(청주상주)      5~10   영덕     3  36.782578  126.689747       1   \n",
      "51  진천          중부선   290~295   남이     3  36.947610  127.471406       0   \n",
      "52  진천          중부선   290~295   하남     3  36.947610  127.471406       1   \n",
      "\n",
      "             timestamp  \n",
      "9  2025-08-26 09:42:08  \n",
      "10 2025-08-26 09:46:08  \n",
      "16 2025-08-26 10:10:08  \n",
      "17 2025-08-26 10:14:08  \n",
      "45 2025-08-26 12:06:08  \n",
      "46 2025-08-26 12:10:08  \n",
      "37 2025-08-26 11:34:08  \n",
      "41 2025-08-26 11:50:08  \n",
      "51 2025-08-26 12:30:08  \n",
      "52 2025-08-26 12:34:08  \n"
     ]
    }
   ],
   "source": [
    "# 중복데이터 확인 \n",
    "# 완전 일치 기준 중복 여부\n",
    "mask_exact = roadkill_info2.duplicated(subset=['위도','경도'], keep=False)\n",
    "dups_exact = (roadkill_info2[mask_exact]\n",
    "              .sort_values(['위도','경도','timestamp']))\n",
    "print(\"완전 일치 중복 샘플:\")\n",
    "print(dups_exact.head(10))"
   ]
  },
  {
   "cell_type": "code",
   "execution_count": 11,
   "id": "adcdb0cb",
   "metadata": {},
   "outputs": [],
   "source": [
    "# 이걸 쿼리에 올리기 "
   ]
  },
  {
   "cell_type": "code",
   "execution_count": 14,
   "id": "2ee90a0f",
   "metadata": {},
   "outputs": [
    {
     "name": "stdout",
     "output_type": "stream",
     "text": [
      "roadkill_info 적재 완료\n"
     ]
    }
   ],
   "source": [
    "# roadkill_loc (위도+경도 PK), roadkill_freq (지사명 PK) 생성 및 적재\n",
    "\n",
    "import pandas as pd\n",
    "import pymysql\n",
    "from sqlalchemy import create_engine, text\n",
    "\n",
    "# 1. MySQL 연결 \n",
    "db_config = {\n",
    "    'host': 'localhost',\n",
    "    'user': 'root',\n",
    "    'passwd': '1234',\n",
    "    'db': 'roadkill_db',\n",
    "    'charset': 'utf8'\n",
    "}\n",
    "\n",
    "# sqlalchemy engine \n",
    "engine = create_engine(\n",
    "    f\"mysql+pymysql://{db_config['user']}:{db_config['passwd']}@{db_config['host']}/{db_config['db']}?charset={db_config['charset']}\"\n",
    ")\n",
    "\n",
    "\n",
    "# 3. DB테이블 생성\n",
    "with engine.begin() as conn:\n",
    "    conn.execute(text(\"DROP TABLE IF EXISTS roadkill_loc\"))\n",
    "    conn.execute(text(\"\"\"\n",
    "        CREATE TABLE roadkill_loc (\n",
    "            지사명       VARCHAR(100) NOT NULL,\n",
    "            위도         DOUBLE NOT NULL,\n",
    "            경도         DOUBLE NOT NULL,\n",
    "            status       TINYINT NOT NULL COMMENT '0=발견,1=재발견,2=죽음',\n",
    "            `timestamp`  DATETIME NOT NULL,\n",
    "            PRIMARY KEY (위도, 경도, status, `timestamp`),\n",
    "            INDEX idx_ts (`timestamp`)\n",
    "        ) CHARACTER SET utf8mb4 COLLATE utf8mb4_unicode_ci;\n",
    "    \"\"\"))\n",
    "        \n",
    "# 4) 데이터 적재\n",
    "roadkill_info2.to_sql(\"roadkill_info\", con=engine, if_exists=\"append\", index=False)\n",
    "\n",
    "print(\"roadkill_info 적재 완료\")"
   ]
  },
  {
   "cell_type": "code",
   "execution_count": null,
   "id": "3e82cd1a",
   "metadata": {},
   "outputs": [],
   "source": []
  }
 ],
 "metadata": {
  "kernelspec": {
   "display_name": "hipython",
   "language": "python",
   "name": "python3"
  },
  "language_info": {
   "codemirror_mode": {
    "name": "ipython",
    "version": 3
   },
   "file_extension": ".py",
   "mimetype": "text/x-python",
   "name": "python",
   "nbconvert_exporter": "python",
   "pygments_lexer": "ipython3",
   "version": "3.12.9"
  }
 },
 "nbformat": 4,
 "nbformat_minor": 5
}
